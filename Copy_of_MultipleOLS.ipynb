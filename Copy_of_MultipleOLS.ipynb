{
  "nbformat": 4,
  "nbformat_minor": 0,
  "metadata": {
    "colab": {
      "provenance": [],
      "authorship_tag": "ABX9TyMYUHE1sRg3GoOS2d7l3Vi/",
      "include_colab_link": true
    },
    "kernelspec": {
      "name": "python3",
      "display_name": "Python 3"
    },
    "language_info": {
      "name": "python"
    }
  },
  "cells": [
    {
      "cell_type": "markdown",
      "metadata": {
        "id": "view-in-github",
        "colab_type": "text"
      },
      "source": [
        "<a href=\"https://colab.research.google.com/github/jyeverin/Python-Guides/blob/main/Copy_of_MultipleOLS.ipynb\" target=\"_parent\"><img src=\"https://colab.research.google.com/assets/colab-badge.svg\" alt=\"Open In Colab\"/></a>"
      ]
    },
    {
      "cell_type": "code",
      "execution_count": null,
      "metadata": {
        "id": "RtlucbVl-CT9"
      },
      "outputs": [],
      "source": []
    },
    {
      "cell_type": "code",
      "source": [
        "#ENTER THE DATA\n",
        "import pandas as pd\n",
        "\n",
        "#create data\n",
        "df = pd.DataFrame({'hours': [1, 2, 2, 4, 2, 1, 5, 4, 2, 4, 4, 3, 6, 5, 3, 4, 6, 2, 1, 2],\n",
        "                   'exams': [1, 3, 3, 5, 2, 2, 1, 1, 0, 3, 4, 3, 2, 4, 4, 4, 5, 1, 0, 1],\n",
        "                   'score': [76, 78, 85, 88, 72, 69, 94, 94, 88, 92, 90, 75, 96, 90, 82, 85, 99, 83, 62, 76]})\n",
        "\n",
        "#view data\n",
        "df\n",
        "\n",
        "#FIT THE MODEL\n",
        "import statsmodels.api as sm\n",
        "\n",
        "#define response variable\n",
        "y = df['score']\n",
        "\n",
        "#define predictor variables\n",
        "x = df[['hours', 'exams']]\n",
        "\n",
        "#add constant to predictor variables\n",
        "x = sm.add_constant(x)\n",
        "\n",
        "#fit linear regression model\n",
        "model = sm.OLS(y, x).fit()\n",
        "\n",
        "#view model summary\n",
        "print(model.summary())"
      ],
      "metadata": {
        "colab": {
          "base_uri": "https://localhost:8080/"
        },
        "id": "lgzBRkwq-Dqr",
        "outputId": "6cdc2aca-98ef-4789-dc0f-3ee0f3178d1b"
      },
      "execution_count": null,
      "outputs": [
        {
          "output_type": "stream",
          "name": "stdout",
          "text": [
            "                            OLS Regression Results                            \n",
            "==============================================================================\n",
            "Dep. Variable:                  score   R-squared:                       0.734\n",
            "Model:                            OLS   Adj. R-squared:                  0.703\n",
            "Method:                 Least Squares   F-statistic:                     23.46\n",
            "Date:                Wed, 27 Sep 2023   Prob (F-statistic):           1.29e-05\n",
            "Time:                        05:46:58   Log-Likelihood:                -60.354\n",
            "No. Observations:                  20   AIC:                             126.7\n",
            "Df Residuals:                      17   BIC:                             129.7\n",
            "Df Model:                           2                                         \n",
            "Covariance Type:            nonrobust                                         \n",
            "==============================================================================\n",
            "                 coef    std err          t      P>|t|      [0.025      0.975]\n",
            "------------------------------------------------------------------------------\n",
            "const         67.6735      2.816     24.033      0.000      61.733      73.614\n",
            "hours          5.5557      0.899      6.179      0.000       3.659       7.453\n",
            "exams         -0.6017      0.914     -0.658      0.519      -2.531       1.327\n",
            "==============================================================================\n",
            "Omnibus:                        0.341   Durbin-Watson:                   1.506\n",
            "Prob(Omnibus):                  0.843   Jarque-Bera (JB):                0.196\n",
            "Skew:                          -0.216   Prob(JB):                        0.907\n",
            "Kurtosis:                       2.782   Cond. No.                         10.8\n",
            "==============================================================================\n",
            "\n",
            "Notes:\n",
            "[1] Standard Errors assume that the covariance matrix of the errors is correctly specified.\n"
          ]
        }
      ]
    }
  ]
}