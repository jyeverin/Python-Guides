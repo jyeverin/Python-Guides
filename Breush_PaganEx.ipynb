{
  "nbformat": 4,
  "nbformat_minor": 0,
  "metadata": {
    "colab": {
      "provenance": [],
      "authorship_tag": "ABX9TyNmaKMK4IhSCizntPDhhsb0",
      "include_colab_link": true
    },
    "kernelspec": {
      "name": "python3",
      "display_name": "Python 3"
    },
    "language_info": {
      "name": "python"
    }
  },
  "cells": [
    {
      "cell_type": "markdown",
      "metadata": {
        "id": "view-in-github",
        "colab_type": "text"
      },
      "source": [
        "<a href=\"https://colab.research.google.com/github/jyeverin/Python-Guides/blob/main/Breush_PaganEx.ipynb\" target=\"_parent\"><img src=\"https://colab.research.google.com/assets/colab-badge.svg\" alt=\"Open In Colab\"/></a>"
      ]
    },
    {
      "cell_type": "code",
      "execution_count": 1,
      "metadata": {
        "colab": {
          "base_uri": "https://localhost:8080/"
        },
        "id": "RtlucbVl-CT9",
        "outputId": "b81c434a-2917-40c3-d493-1506df3b2d36"
      },
      "outputs": [
        {
          "output_type": "stream",
          "name": "stdout",
          "text": [
            "                            OLS Regression Results                            \n",
            "==============================================================================\n",
            "Dep. Variable:                 rating   R-squared:                       0.623\n",
            "Model:                            OLS   Adj. R-squared:                  0.434\n",
            "Method:                 Least Squares   F-statistic:                     3.299\n",
            "Date:                Wed, 27 Sep 2023   Prob (F-statistic):             0.0995\n",
            "Time:                        16:52:01   Log-Likelihood:                -26.862\n",
            "No. Observations:                  10   AIC:                             61.72\n",
            "Df Residuals:                       6   BIC:                             62.93\n",
            "Df Model:                           3                                         \n",
            "Covariance Type:            nonrobust                                         \n",
            "==============================================================================\n",
            "                 coef    std err          t      P>|t|      [0.025      0.975]\n",
            "------------------------------------------------------------------------------\n",
            "Intercept     62.4716     14.588      4.282      0.005      26.776      98.168\n",
            "points         1.1193      0.411      2.724      0.034       0.114       2.125\n",
            "assists        0.8834      1.381      0.640      0.546      -2.495       4.262\n",
            "rebounds      -0.4278      0.851     -0.503      0.633      -2.510       1.655\n",
            "==============================================================================\n",
            "Omnibus:                        2.711   Durbin-Watson:                   2.392\n",
            "Prob(Omnibus):                  0.258   Jarque-Bera (JB):                0.945\n",
            "Skew:                          -0.751   Prob(JB):                        0.624\n",
            "Kurtosis:                       3.115   Cond. No.                         217.\n",
            "==============================================================================\n",
            "\n",
            "Notes:\n",
            "[1] Standard Errors assume that the covariance matrix of the errors is correctly specified.\n"
          ]
        },
        {
          "output_type": "stream",
          "name": "stderr",
          "text": [
            "/usr/local/lib/python3.10/dist-packages/scipy/stats/_stats_py.py:1806: UserWarning: kurtosistest only valid for n>=20 ... continuing anyway, n=10\n",
            "  warnings.warn(\"kurtosistest only valid for n>=20 ... continuing \"\n"
          ]
        },
        {
          "output_type": "execute_result",
          "data": {
            "text/plain": [
              "[('Lagrange multiplier statistic', 6.003951995818434),\n",
              " ('p-value', 0.11141811013399579),\n",
              " ('f-value', 3.004944880309619),\n",
              " ('f p-value', 0.11663863538255272)]"
            ]
          },
          "metadata": {},
          "execution_count": 1
        }
      ],
      "source": [
        "import numpy as np\n",
        "import pandas as pd\n",
        "\n",
        "#create dataset\n",
        "df = pd.DataFrame({'rating': [90, 85, 82, 88, 94, 90, 76, 75, 87, 86],\n",
        "                   'points': [25, 20, 14, 16, 27, 20, 12, 15, 14, 19],\n",
        "                   'assists': [5, 7, 7, 8, 5, 7, 6, 9, 9, 5],\n",
        "                   'rebounds': [11, 8, 10, 6, 6, 9, 6, 10, 10, 7]})\n",
        "\n",
        "#view dataset\n",
        "df\n",
        "\n",
        "import statsmodels.formula.api as smf\n",
        "\n",
        "#fit regression model\n",
        "fit = smf.ols('rating ~ points+assists+rebounds', data=df).fit()\n",
        "\n",
        "#view model summary\n",
        "print(fit.summary())\n",
        "\n",
        "from statsmodels.compat import lzip\n",
        "import statsmodels.stats.api as sms\n",
        "\n",
        "#perform Bresuch-Pagan test\n",
        "names = ['Lagrange multiplier statistic', 'p-value',\n",
        "        'f-value', 'f p-value']\n",
        "test = sms.het_breuschpagan(fit.resid, fit.model.exog)\n",
        "\n",
        "lzip(names, test)\n",
        "\n",
        "# The null hypothesis (H0): Homoscedasticity is present.\n",
        "\n",
        "# The alternative hypothesis: (Ha): Homoscedasticity is not present (i.e. heteroscedasticity exists)\n",
        "\n",
        "# In this example, the Lagrange multiplier statistic for the test is 6.004 and the corresponding p-value is 0.1114.\n",
        "# Because this p-value is not less than 0.05,\n",
        "# we fail to reject the null hypothesis. We do not have sufficient evidence to say\n",
        "# that heteroscedasticity is present in the regression model.\n",
        "\n",
        "# How to Fix Heteroscedasticity\n",
        "# In the previous example we saw that heteroscedasticity was not present in the regression model.\n",
        "\n",
        "# However, when heteroscedasticity actually is present there are three common ways to remedy the situation:\n",
        "\n",
        "# 1. Transform the dependent variable. One way to fix heteroscedasticity is to transform the dependent variable in some way.\n",
        "# One common transformation is to simply take the log of the dependent variable.\n",
        "\n",
        "# 2. Redefine the dependent variable. Another way to fix heteroscedasticity is to redefine the dependent variable.\n",
        "# One common way to do so is to use a rate for the dependent variable, rather than the raw value.\n",
        "\n",
        "# 3. Use weighted regression. Another way to fix heteroscedasticity is to use weighted regression.\n",
        "# This type of regression assigns a weight to each data point based on the variance of its fitted value.\n",
        "# When the proper weights are used, this can eliminate the problem of heteroscedasticity.\n"
      ]
    }
  ]
}